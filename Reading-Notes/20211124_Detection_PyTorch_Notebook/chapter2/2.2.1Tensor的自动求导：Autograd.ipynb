{
 "cells": [
  {
   "cell_type": "markdown",
   "id": "b8acb8b0",
   "metadata": {},
   "source": [
    "### 自动求导机制记录了Tensor的操作，以便自动求导与反向传播。\n",
    "\n",
    "### requires_grad参数表示是否需要对该Tensor进行求导，默认为False；设置为True则需要求导，并且依赖于该Tensor的之后的所有节点都需要求导。"
   ]
  },
  {
   "cell_type": "markdown",
   "id": "4f4d2619",
   "metadata": {},
   "source": [
    "### Tensor有两个重要的属性，分别记录了该Tensor的梯度与经历的操作。\n",
    "\n",
    "①grad：该Tensor对应的梯度，类型为Tensor，并与Tensor同维度。\n",
    "\n",
    "②grad_fn：指向function对象，即该Tensor经过了什么样的操作，用作反向传播的梯度计算，如果该Tensor由用户自己创建，则该grad_fn为None。"
   ]
  },
  {
   "cell_type": "code",
   "execution_count": 1,
   "id": "ae8f7911",
   "metadata": {},
   "outputs": [],
   "source": [
    "import torch"
   ]
  },
  {
   "cell_type": "code",
   "execution_count": 2,
   "id": "8ee1bd2b",
   "metadata": {},
   "outputs": [
    {
     "data": {
      "text/plain": [
       "(tensor([[-0.0993, -1.3194],\n",
       "         [-1.6210,  0.4325]], requires_grad=True),\n",
       " tensor([[-0.2791, -1.5609],\n",
       "         [-0.8003,  1.4914]]))"
      ]
     },
     "execution_count": 2,
     "metadata": {},
     "output_type": "execute_result"
    }
   ],
   "source": [
    "a = torch.randn(2, 2, requires_grad=True)\n",
    "b = torch.randn(2, 2)\n",
    "a, b"
   ]
  },
  {
   "cell_type": "code",
   "execution_count": 3,
   "id": "c58e1ba5",
   "metadata": {},
   "outputs": [
    {
     "data": {
      "text/plain": [
       "(True, False)"
      ]
     },
     "execution_count": 3,
     "metadata": {},
     "output_type": "execute_result"
    }
   ],
   "source": [
    "#默认的Tensor不需要求导，设置requires_grad为True后则需要求导\n",
    "a.requires_grad, b.requires_grad"
   ]
  },
  {
   "cell_type": "code",
   "execution_count": 4,
   "id": "32486365",
   "metadata": {},
   "outputs": [
    {
     "data": {
      "text/plain": [
       "tensor([[-0.2791, -1.5609],\n",
       "        [-0.8003,  1.4914]], requires_grad=True)"
      ]
     },
     "execution_count": 4,
     "metadata": {},
     "output_type": "execute_result"
    }
   ],
   "source": [
    "#也可以通过内置函数requires_grad_()将Tensor变为需要求导\n",
    "b.requires_grad_()"
   ]
  },
  {
   "cell_type": "code",
   "execution_count": 5,
   "id": "20af838c",
   "metadata": {},
   "outputs": [
    {
     "data": {
      "text/plain": [
       "True"
      ]
     },
     "execution_count": 5,
     "metadata": {},
     "output_type": "execute_result"
    }
   ],
   "source": [
    "b.requires_grad"
   ]
  },
  {
   "cell_type": "code",
   "execution_count": 6,
   "id": "53cdc674",
   "metadata": {},
   "outputs": [
    {
     "data": {
      "text/plain": [
       "(tensor([[-0.3784, -2.8803],\n",
       "         [-2.4213,  1.9239]], grad_fn=<AddBackward0>),\n",
       " True)"
      ]
     },
     "execution_count": 6,
     "metadata": {},
     "output_type": "execute_result"
    }
   ],
   "source": [
    "#通过计算生成的Tensor，由于依赖的Tensor需要求导，所以计算结果也需要求导\n",
    "c = a + b\n",
    "c, c.requires_grad"
   ]
  },
  {
   "cell_type": "code",
   "execution_count": 7,
   "id": "bb9fc3b4",
   "metadata": {},
   "outputs": [
    {
     "data": {
      "text/plain": [
       "(None, None, <AddBackward0 at 0x269fad10850>)"
      ]
     },
     "execution_count": 7,
     "metadata": {},
     "output_type": "execute_result"
    }
   ],
   "source": [
    "#a与b是自己创建的，grad_fn为None，而c的grad_fn是一个Add函数操作\n",
    "a.grad_fn, b.grad_fn, c.grad_fn"
   ]
  },
  {
   "cell_type": "markdown",
   "id": "15c36f43",
   "metadata": {},
   "source": [
    "## Tensor.detach()函数\n",
    "返回一个新的tensor，新的tensor和原来的tensor共享数据内存，但不涉及梯度计算，即**requires_grad=False**。修改其中一个tensor的值，另一个也会改变，因为是共享同一块内存，但**如果对其中一个tensor执行某些内置操作，则会报错**，例如resize_、resize_as_、set_、transpose_。"
   ]
  },
  {
   "cell_type": "code",
   "execution_count": 8,
   "id": "bbdd4e49",
   "metadata": {},
   "outputs": [
    {
     "data": {
      "text/plain": [
       "(tensor([[-0.3784, -2.8803],\n",
       "         [-2.4213,  1.9239]]),\n",
       " False)"
      ]
     },
     "execution_count": 8,
     "metadata": {},
     "output_type": "execute_result"
    }
   ],
   "source": [
    "d = c.detach()\n",
    "d, d.requires_grad"
   ]
  },
  {
   "cell_type": "code",
   "execution_count": 9,
   "id": "eb681f1a",
   "metadata": {},
   "outputs": [],
   "source": [
    "#没有任何输出\n",
    "d.grad_fn"
   ]
  },
  {
   "cell_type": "code",
   "execution_count": 10,
   "id": "39879aa5",
   "metadata": {},
   "outputs": [
    {
     "ename": "RuntimeError",
     "evalue": "set_sizes_contiguous is not allowed on a Tensor created from .data or .detach().\nIf your intent is to change the metadata of a Tensor (such as sizes / strides / storage / storage_offset)\nwithout autograd tracking the change, remove the .data / .detach() call and wrap the change in a `with torch.no_grad():` block.\nFor example, change:\n    x.data.set_(y)\nto:\n    with torch.no_grad():\n        x.set_(y)",
     "output_type": "error",
     "traceback": [
      "\u001b[1;31m---------------------------------------------------------------------------\u001b[0m",
      "\u001b[1;31mRuntimeError\u001b[0m                              Traceback (most recent call last)",
      "\u001b[1;32m~\\AppData\\Local\\Temp/ipykernel_21136/2905147642.py\u001b[0m in \u001b[0;36m<module>\u001b[1;34m\u001b[0m\n\u001b[0;32m      1\u001b[0m \u001b[1;31m#使用detach()函数后，执行某些内置操作会报错\u001b[0m\u001b[1;33m\u001b[0m\u001b[1;33m\u001b[0m\u001b[0m\n\u001b[1;32m----> 2\u001b[1;33m \u001b[0md\u001b[0m\u001b[1;33m.\u001b[0m\u001b[0mresize_\u001b[0m\u001b[1;33m(\u001b[0m\u001b[1;36m4\u001b[0m\u001b[1;33m,\u001b[0m \u001b[1;36m1\u001b[0m\u001b[1;33m)\u001b[0m\u001b[1;33m\u001b[0m\u001b[1;33m\u001b[0m\u001b[0m\n\u001b[0m",
      "\u001b[1;31mRuntimeError\u001b[0m: set_sizes_contiguous is not allowed on a Tensor created from .data or .detach().\nIf your intent is to change the metadata of a Tensor (such as sizes / strides / storage / storage_offset)\nwithout autograd tracking the change, remove the .data / .detach() call and wrap the change in a `with torch.no_grad():` block.\nFor example, change:\n    x.data.set_(y)\nto:\n    with torch.no_grad():\n        x.set_(y)"
     ]
    }
   ],
   "source": [
    "#使用detach()函数后，执行某些内置操作会报错\n",
    "d.resize_(4, 1)"
   ]
  }
 ],
 "metadata": {
  "kernelspec": {
   "display_name": "Python 3 (ipykernel)",
   "language": "python",
   "name": "python3"
  },
  "language_info": {
   "codemirror_mode": {
    "name": "ipython",
    "version": 3
   },
   "file_extension": ".py",
   "mimetype": "text/x-python",
   "name": "python",
   "nbconvert_exporter": "python",
   "pygments_lexer": "ipython3",
   "version": "3.9.7"
  }
 },
 "nbformat": 4,
 "nbformat_minor": 5
}

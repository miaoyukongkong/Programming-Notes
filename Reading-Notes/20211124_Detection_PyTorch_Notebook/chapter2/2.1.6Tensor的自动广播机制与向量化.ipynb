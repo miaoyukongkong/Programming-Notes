{
 "cells": [
  {
   "cell_type": "markdown",
   "id": "6400cc3c",
   "metadata": {},
   "source": [
    "## Tensor的自动广播机制\n",
    "\n",
    "PyTorch在0.2版本以后，推出了自动广播语义，即不同形状的Tensor进行计算时，可自动扩展到较大的相同形状，再进行计算。**广播机制的前提是任一个Tensor至少有一个维度，且从尾部遍历Tensor维度时，两者维度必须相等，其中一个要么是1要么不存在。**"
   ]
  },
  {
   "cell_type": "code",
   "execution_count": 1,
   "id": "0f4ab460",
   "metadata": {},
   "outputs": [],
   "source": [
    "import torch"
   ]
  },
  {
   "cell_type": "code",
   "execution_count": 2,
   "id": "4b2e8cf7",
   "metadata": {},
   "outputs": [
    {
     "name": "stdout",
     "output_type": "stream",
     "text": [
      "tensor([[[1., 2.]],\n",
      "\n",
      "        [[3., 4.]],\n",
      "\n",
      "        [[5., 6.]]])\n",
      "torch.Size([3, 1, 2])\n"
     ]
    }
   ],
   "source": [
    "a = torch.Tensor([[[1, 2]], [[3, 4]], [[5, 6]]])\n",
    "print(a)\n",
    "print(a.size())"
   ]
  },
  {
   "cell_type": "code",
   "execution_count": 3,
   "id": "f6b6f227",
   "metadata": {},
   "outputs": [
    {
     "name": "stdout",
     "output_type": "stream",
     "text": [
      "tensor([[7., 8.]])\n",
      "torch.Size([1, 2])\n"
     ]
    }
   ],
   "source": [
    "b = torch.Tensor([[7, 8]])\n",
    "print(b)\n",
    "print(b.size())"
   ]
  },
  {
   "cell_type": "code",
   "execution_count": 4,
   "id": "534fcca4",
   "metadata": {},
   "outputs": [
    {
     "name": "stdout",
     "output_type": "stream",
     "text": [
      "tensor([[[ 8., 10.]],\n",
      "\n",
      "        [[10., 12.]],\n",
      "\n",
      "        [[12., 14.]]])\n",
      "torch.Size([3, 1, 2])\n"
     ]
    }
   ],
   "source": [
    "#对于a和b，从尾部遍历维度，2对应2，1对应1，3对应不存在，满足广播机制，计算后的维度为3×1×2\n",
    "print(a+b)\n",
    "print((a+b).size())"
   ]
  },
  {
   "cell_type": "code",
   "execution_count": 5,
   "id": "f43ef1b8",
   "metadata": {},
   "outputs": [
    {
     "name": "stdout",
     "output_type": "stream",
     "text": [
      "tensor([[ 9.],\n",
      "        [10.]])\n",
      "torch.Size([2, 1])\n"
     ]
    }
   ],
   "source": [
    "c = torch.Tensor([[9], [10]])\n",
    "print(c)\n",
    "print(c.size())"
   ]
  },
  {
   "cell_type": "code",
   "execution_count": 6,
   "id": "51b457e9",
   "metadata": {},
   "outputs": [
    {
     "name": "stdout",
     "output_type": "stream",
     "text": [
      "tensor([[[10., 11.],\n",
      "         [11., 12.]],\n",
      "\n",
      "        [[12., 13.],\n",
      "         [13., 14.]],\n",
      "\n",
      "        [[14., 15.],\n",
      "         [15., 16.]]])\n",
      "torch.Size([3, 2, 2])\n"
     ]
    }
   ],
   "source": [
    "#对于a和c，从尾部遍历维度，2对应1，1对应2，3对应不存在，满足广播机制，计算后的维度为3×2×2\n",
    "print(a+c)\n",
    "print((a+c).size())"
   ]
  },
  {
   "cell_type": "code",
   "execution_count": 7,
   "id": "05c095a8",
   "metadata": {},
   "outputs": [
    {
     "name": "stdout",
     "output_type": "stream",
     "text": [
      "tensor([[11., 12., 13.],\n",
      "        [14., 15., 16.]])\n",
      "torch.Size([2, 3])\n"
     ]
    }
   ],
   "source": [
    "d = torch.Tensor([[11, 12, 13], [14, 15, 16]])\n",
    "print(d)\n",
    "print(d.size())"
   ]
  },
  {
   "cell_type": "code",
   "execution_count": 8,
   "id": "d38bfe2a",
   "metadata": {},
   "outputs": [
    {
     "ename": "RuntimeError",
     "evalue": "The size of tensor a (2) must match the size of tensor b (3) at non-singleton dimension 2",
     "output_type": "error",
     "traceback": [
      "\u001b[1;31m---------------------------------------------------------------------------\u001b[0m",
      "\u001b[1;31mRuntimeError\u001b[0m                              Traceback (most recent call last)",
      "\u001b[1;32m~\\AppData\\Local\\Temp/ipykernel_15008/1404515325.py\u001b[0m in \u001b[0;36m<module>\u001b[1;34m\u001b[0m\n\u001b[0;32m      1\u001b[0m \u001b[1;31m#对于a和d，从尾部遍历维度，2对应3，不满足广播机制，因此报错\u001b[0m\u001b[1;33m\u001b[0m\u001b[1;33m\u001b[0m\u001b[0m\n\u001b[1;32m----> 2\u001b[1;33m \u001b[0mprint\u001b[0m\u001b[1;33m(\u001b[0m\u001b[0ma\u001b[0m\u001b[1;33m+\u001b[0m\u001b[0md\u001b[0m\u001b[1;33m)\u001b[0m\u001b[1;33m\u001b[0m\u001b[1;33m\u001b[0m\u001b[0m\n\u001b[0m\u001b[0;32m      3\u001b[0m \u001b[0mprint\u001b[0m\u001b[1;33m(\u001b[0m\u001b[1;33m(\u001b[0m\u001b[0ma\u001b[0m\u001b[1;33m+\u001b[0m\u001b[0md\u001b[0m\u001b[1;33m)\u001b[0m\u001b[1;33m.\u001b[0m\u001b[0msize\u001b[0m\u001b[1;33m(\u001b[0m\u001b[1;33m)\u001b[0m\u001b[1;33m)\u001b[0m\u001b[1;33m\u001b[0m\u001b[1;33m\u001b[0m\u001b[0m\n",
      "\u001b[1;31mRuntimeError\u001b[0m: The size of tensor a (2) must match the size of tensor b (3) at non-singleton dimension 2"
     ]
    }
   ],
   "source": [
    "#对于a和d，从尾部遍历维度，2对应3，不满足广播机制，因此报错\n",
    "print(a+d)\n",
    "print((a+d).size())"
   ]
  },
  {
   "cell_type": "markdown",
   "id": "8b1a1da6",
   "metadata": {},
   "source": [
    "## Tensor向量化\n",
    "\n",
    "向量化操作是指可以在同一时间进行批量地并行计算，例如矩阵运算，以达到更好的计算效率的一种方式。在实际使用时，**应尽量使用向量化直接对Tensor操作，避免低效率的for循环对元素逐个操作**，尤其是在训练网络模型时，如果有大量的for循环，会极大地影响训练的速度。"
   ]
  }
 ],
 "metadata": {
  "kernelspec": {
   "display_name": "Python 3 (ipykernel)",
   "language": "python",
   "name": "python3"
  },
  "language_info": {
   "codemirror_mode": {
    "name": "ipython",
    "version": 3
   },
   "file_extension": ".py",
   "mimetype": "text/x-python",
   "name": "python",
   "nbconvert_exporter": "python",
   "pygments_lexer": "ipython3",
   "version": "3.9.7"
  }
 },
 "nbformat": 4,
 "nbformat_minor": 5
}

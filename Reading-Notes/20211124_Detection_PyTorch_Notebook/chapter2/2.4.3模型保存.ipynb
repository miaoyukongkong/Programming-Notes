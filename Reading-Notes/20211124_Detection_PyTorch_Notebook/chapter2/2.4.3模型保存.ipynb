{
 "cells": [
  {
   "cell_type": "markdown",
   "id": "47069f93",
   "metadata": {},
   "source": [
    "### 在PyTorch中，参数的保存通过torch.save()函数实现，可保存对象包括网络模型、优化器等，而这些对象的当前状态数据可以通过自身的state_dict()函数获取。"
   ]
  },
  {
   "cell_type": "code",
   "execution_count": null,
   "id": "65953fd5",
   "metadata": {},
   "outputs": [],
   "source": [
    "torch.save({\n",
    "    'model': model.state_dict(),\n",
    "    'optimizer': optimizer.state_dict()},\n",
    "    'model_path.pth')"
   ]
  }
 ],
 "metadata": {
  "kernelspec": {
   "display_name": "Python 3 (ipykernel)",
   "language": "python",
   "name": "python3"
  },
  "language_info": {
   "codemirror_mode": {
    "name": "ipython",
    "version": 3
   },
   "file_extension": ".py",
   "mimetype": "text/x-python",
   "name": "python",
   "nbconvert_exporter": "python",
   "pygments_lexer": "ipython3",
   "version": "3.9.7"
  }
 },
 "nbformat": 4,
 "nbformat_minor": 5
}

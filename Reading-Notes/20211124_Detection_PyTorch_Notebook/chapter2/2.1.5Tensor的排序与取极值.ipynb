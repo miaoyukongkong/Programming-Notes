{
 "cells": [
  {
   "cell_type": "markdown",
   "id": "07a007c4",
   "metadata": {},
   "source": [
    "## Tensor的排序\n",
    "比较重要的是排序函数**sort()**，选择沿着指定维度进行排序，返回排序后的Tensor及对应的索引位置。"
   ]
  },
  {
   "cell_type": "code",
   "execution_count": 1,
   "id": "c7573c2f",
   "metadata": {},
   "outputs": [],
   "source": [
    "import torch"
   ]
  },
  {
   "cell_type": "code",
   "execution_count": 2,
   "id": "1260e6d1",
   "metadata": {},
   "outputs": [
    {
     "data": {
      "text/plain": [
       "tensor([[-0.8844, -0.1285,  1.0736],\n",
       "        [-0.4333, -0.1141, -0.2593],\n",
       "        [ 0.3682, -0.2139, -0.1907]])"
      ]
     },
     "execution_count": 2,
     "metadata": {},
     "output_type": "execute_result"
    }
   ],
   "source": [
    "a = torch.randn(3, 3)\n",
    "a"
   ]
  },
  {
   "cell_type": "code",
   "execution_count": 3,
   "id": "f4f60b8a",
   "metadata": {},
   "outputs": [
    {
     "data": {
      "text/plain": [
       "tensor([[ 0.3682, -0.1141,  1.0736],\n",
       "        [-0.4333, -0.1285, -0.1907],\n",
       "        [-0.8844, -0.2139, -0.2593]])"
      ]
     },
     "execution_count": 3,
     "metadata": {},
     "output_type": "execute_result"
    }
   ],
   "source": [
    "#sort(dim, True/False)[sorted/indices]，()里的数字表示排序维度，[]里的数字表示排序结果的输出形式\n",
    "#[0]表示输出排序后的Tensor，[1]表示输出排序后Tensor所在排序维度的原下标\n",
    "#按照第0维即按行排序，每一列进行比较，True代表降序，False代表升序\n",
    "a.sort(0, True)[0]"
   ]
  },
  {
   "cell_type": "code",
   "execution_count": 4,
   "id": "a73b65d7",
   "metadata": {},
   "outputs": [
    {
     "data": {
      "text/plain": [
       "tensor([[0, 1, 2],\n",
       "        [0, 2, 1],\n",
       "        [1, 2, 0]])"
      ]
     },
     "execution_count": 4,
     "metadata": {},
     "output_type": "execute_result"
    }
   ],
   "source": [
    "#按照第1维即按列排序，每一行进行比较，True代表降序，False代表升序\n",
    "a.sort(1, False)[1]"
   ]
  },
  {
   "cell_type": "markdown",
   "id": "4e7e385c",
   "metadata": {},
   "source": [
    "## Tensor取极值\n",
    "**max()与min()**函数则是沿着指定维度选择最大与最小元素，返回该元素及对应的索引位置。"
   ]
  },
  {
   "cell_type": "code",
   "execution_count": 5,
   "id": "c35c8f40",
   "metadata": {},
   "outputs": [
    {
     "data": {
      "text/plain": [
       "torch.return_types.max(\n",
       "values=tensor([ 0.3682, -0.1141,  1.0736]),\n",
       "indices=tensor([2, 1, 0]))"
      ]
     },
     "execution_count": 5,
     "metadata": {},
     "output_type": "execute_result"
    }
   ],
   "source": [
    "#按照第0维即按行选取最大值\n",
    "a.max(0)"
   ]
  },
  {
   "cell_type": "code",
   "execution_count": 6,
   "id": "46bbe65d",
   "metadata": {},
   "outputs": [
    {
     "data": {
      "text/plain": [
       "torch.return_types.min(\n",
       "values=tensor([-0.8844, -0.4333, -0.2139]),\n",
       "indices=tensor([0, 0, 1]))"
      ]
     },
     "execution_count": 6,
     "metadata": {},
     "output_type": "execute_result"
    }
   ],
   "source": [
    "#按照第1维即按列选取最小值\n",
    "a.min(1)"
   ]
  },
  {
   "cell_type": "markdown",
   "id": "5101fef7",
   "metadata": {},
   "source": [
    "### 对于Tensor的单元素数学运算，如abs()、sqrt()、log()、pow()和三角函数等，都是逐元素操作（element-wise），输出的Tensor形状与原始Tensor形状一致。\n",
    "\n",
    "### 对于类似求和、求均值、求方差、求距离等需要多个元素完成的操作，往往需要沿着某个维度进行计算，在Tensor中属于归并操作，输出形状小于输入形状。"
   ]
  }
 ],
 "metadata": {
  "kernelspec": {
   "display_name": "Python 3 (ipykernel)",
   "language": "python",
   "name": "python3"
  },
  "language_info": {
   "codemirror_mode": {
    "name": "ipython",
    "version": 3
   },
   "file_extension": ".py",
   "mimetype": "text/x-python",
   "name": "python",
   "nbconvert_exporter": "python",
   "pygments_lexer": "ipython3",
   "version": "3.9.7"
  }
 },
 "nbformat": 4,
 "nbformat_minor": 5
}

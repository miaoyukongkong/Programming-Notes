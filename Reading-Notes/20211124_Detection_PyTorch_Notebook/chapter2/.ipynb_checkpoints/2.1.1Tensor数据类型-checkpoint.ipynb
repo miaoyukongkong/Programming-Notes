{
 "cells": [
  {
   "cell_type": "markdown",
   "id": "153d72c8",
   "metadata": {},
   "source": [
    "### PyTorch中默认的数据类型是torch.FloatTensor，即torch.Tensor等同于torch.FloatTensor。\n",
    "\n",
    "### PyTorch可以通过set_default_tensor_type函数设置默认使用的Tensor类型，在局部使用完后如果需要其他类型，则还需要重新设置回所需的类型。\n",
    "\n",
    "### 对于Tensor之间的类型转换，可以通过type(new_type)、type_as()、int()等多种方式进行操作，尤其是type_as()函数，在后续的模型学习中可以看到，我们想保持Tensor之间的类型一致，只需要使用type_as()即可，并不需要明确具体是哪种类型。"
   ]
  },
  {
   "cell_type": "code",
   "execution_count": 1,
   "id": "f40ac39f",
   "metadata": {},
   "outputs": [],
   "source": [
    "import torch"
   ]
  },
  {
   "cell_type": "code",
   "execution_count": 2,
   "id": "1c9ebf81",
   "metadata": {},
   "outputs": [
    {
     "data": {
      "text/plain": [
       "tensor([[0., 0.],\n",
       "        [0., 0.]])"
      ]
     },
     "execution_count": 2,
     "metadata": {},
     "output_type": "execute_result"
    }
   ],
   "source": [
    "#创建新Tensor，默认类型为torch.FloatTensor\n",
    "a = torch.Tensor(2, 2)\n",
    "a"
   ]
  },
  {
   "cell_type": "code",
   "execution_count": 3,
   "id": "0d0d6d17",
   "metadata": {},
   "outputs": [
    {
     "name": "stdout",
     "output_type": "stream",
     "text": [
      "torch.Tensor()创建浮点型Tensor： tensor([[1., 2.],\n",
      "        [3., 4.]])\n",
      "torch.tensor()创建整型Tensor： tensor([[1, 2],\n",
      "        [3, 4]])\n"
     ]
    }
   ],
   "source": [
    "#torch.Tensor()创建浮点型Tensor，而torch.tensor()创建整型Tensor，且必须指定具体的值\n",
    "T = torch.Tensor([[1, 2], [3, 4]])\n",
    "t = torch.tensor([[1, 2], [3, 4]])\n",
    "print('torch.Tensor()创建浮点型Tensor：', T)\n",
    "print('torch.tensor()创建整型Tensor：', t)"
   ]
  },
  {
   "cell_type": "code",
   "execution_count": 4,
   "id": "c1ea2cb3",
   "metadata": {},
   "outputs": [
    {
     "data": {
      "text/plain": [
       "tensor([[0., 0.],\n",
       "        [0., 0.]], dtype=torch.float64)"
      ]
     },
     "execution_count": 4,
     "metadata": {},
     "output_type": "execute_result"
    }
   ],
   "source": [
    "#使用int()、float()、double()等直接进行数据类型转换\n",
    "b = a.double()\n",
    "b"
   ]
  },
  {
   "cell_type": "code",
   "execution_count": 5,
   "id": "311bc21f",
   "metadata": {},
   "outputs": [
    {
     "data": {
      "text/plain": [
       "tensor([[0., 0.],\n",
       "        [0., 0.]], dtype=torch.float64)"
      ]
     },
     "execution_count": 5,
     "metadata": {},
     "output_type": "execute_result"
    }
   ],
   "source": [
    "#使用type()函数\n",
    "c = a.type(torch.DoubleTensor)\n",
    "c"
   ]
  },
  {
   "cell_type": "code",
   "execution_count": 6,
   "id": "c8020895",
   "metadata": {},
   "outputs": [
    {
     "data": {
      "text/plain": [
       "tensor([[0., 0.],\n",
       "        [0., 0.]], dtype=torch.float64)"
      ]
     },
     "execution_count": 6,
     "metadata": {},
     "output_type": "execute_result"
    }
   ],
   "source": [
    "#使用type_as()函数\n",
    "d = a.type_as(b)\n",
    "d"
   ]
  }
 ],
 "metadata": {
  "kernelspec": {
   "display_name": "Python 3 (ipykernel)",
   "language": "python",
   "name": "python3"
  },
  "language_info": {
   "codemirror_mode": {
    "name": "ipython",
    "version": 3
   },
   "file_extension": ".py",
   "mimetype": "text/x-python",
   "name": "python",
   "nbconvert_exporter": "python",
   "pygments_lexer": "ipython3",
   "version": "3.9.7"
  }
 },
 "nbformat": 4,
 "nbformat_minor": 5
}

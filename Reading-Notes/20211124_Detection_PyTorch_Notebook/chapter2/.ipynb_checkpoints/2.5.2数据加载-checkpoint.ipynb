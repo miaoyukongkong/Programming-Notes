{
 "cells": [
  {
   "cell_type": "markdown",
   "id": "79eb8694",
   "metadata": {},
   "source": [
    "### 1.继承Dataset类"
   ]
  },
  {
   "cell_type": "code",
   "execution_count": 1,
   "id": "1a3443ce",
   "metadata": {},
   "outputs": [],
   "source": [
    "#对于数据集的处理，PyTorch提供了torch.utils.data.Dataset这个抽象类，在使用时只需要继承该类，\n",
    "#并重写__len__()和__getitem()__函数，即可以方便地进行数据集的迭代。"
   ]
  },
  {
   "cell_type": "code",
   "execution_count": null,
   "id": "f688d72d",
   "metadata": {},
   "outputs": [],
   "source": [
    "from torch.utils.data import Dataset\n",
    "\n",
    "class my_data(Dataset):\n",
    "    def __init__(self, image_path, annotation_path, transform=None):\n",
    "        #初始化，读取数据集\n",
    "        def __len__(self):    #获取数据集的总大小\n",
    "        def __getitem__(self, id):    #对于指定的id，读取该数据并返回"
   ]
  },
  {
   "cell_type": "code",
   "execution_count": null,
   "id": "9fa599e4",
   "metadata": {},
   "outputs": [],
   "source": [
    "#对上述类进行实例化\n",
    "dataset = my_data(\"your image path\", \"your annotation path\")    #实例化该类\n",
    "\n",
    "for data in dataset:\n",
    "    print(data)"
   ]
  },
  {
   "cell_type": "markdown",
   "id": "95ce62df",
   "metadata": {},
   "source": [
    "### 2.数据变换与增强：torchvision.transforms\n",
    "第一步虽然将数据集加载到了实例中，但在实际应用时，数据集中的图片有可能存在大小不一的情况，并且原始图片像素RGB值较大（0~255），这些都不利于神经网络的训练收敛，因此还需要进行一些图像变换工作。PyTorch为此提供了torchvision.transforms工具包，可以方便地进行图像缩放、裁剪、随机翻转、填充及张量的归一化等操作，操作对象是PIL的Image或者Tensor。如果需要进行多个变换功能，可以利用transforms.Compose将多个变换整合起来，并且在实际使用时，通常会将变换操作集成到Dataset的继承类中。"
   ]
  },
  {
   "cell_type": "code",
   "execution_count": null,
   "id": "803d1f6a",
   "metadata": {},
   "outputs": [],
   "source": [
    "from torchvision import transforms\n",
    "\n",
    "#将transforms集成到Dataset类中，使用Compose将多个变换整合到一起\n",
    "dataset = my_data(\"your image path\", \"your annotation path\", transforms=\n",
    "                 \n",
    "                 transforms.Compose([\n",
    "                     transforms.Resize(256)    #将图像最短边缩小至256，宽高比例不变\n",
    "                     transforms.RandomHorizontalFlip()    #以0.5的概率随机翻转指定的PIL图像\n",
    "                     transforms.ToTensor()    #将PIL图像转为Tensor，元素区间从[0， 255]归一到[0， 1]\n",
    "                     transforms.Normalize([0.5, 0.5, 0.5], [0.5, 0.5, 0.5])    #进行mean与std为0.5的标准化\n",
    "                 ]))"
   ]
  },
  {
   "cell_type": "markdown",
   "id": "7caaebe0",
   "metadata": {},
   "source": [
    "### 3.继承dataloader\n",
    "经过前两步已经可以获取每一个变换后的样本，但是仍然无法进行批量处理、随机选取等操作，因此还需要torch.utils.data.Dataloader类进一步进行封装，使用方法如下例所示，该类需要4个参数，第1个参数是之前继承了Dataset的实例，第2个参数是批量batch的大小，第3个参数是是否打乱数据参数，第4个参数是使用几个线程来加载数据。"
   ]
  },
  {
   "cell_type": "code",
   "execution_count": null,
   "id": "f7be73a8",
   "metadata": {},
   "outputs": [],
   "source": [
    "from torch.utils.data import DataLoader\n",
    "\n",
    "#使用DataLoader进一步封装Dataset\n",
    "dataloader = DataLoader(dataset, batch_size=4, shuffle=True, num_workers=4)"
   ]
  },
  {
   "cell_type": "code",
   "execution_count": null,
   "id": "7c0383eb",
   "metadata": {},
   "outputs": [],
   "source": [
    "#dataloader是一个可迭代对象，对该实例进行迭代即可用于训练过程\n",
    "data_iter = iter(dataloader)\n",
    "\n",
    "for step in range(iters_per_epoch):\n",
    "    data = next(data_iter)\n",
    "    #将data用于训练网络即可"
   ]
  }
 ],
 "metadata": {
  "kernelspec": {
   "display_name": "Python 3 (ipykernel)",
   "language": "python",
   "name": "python3"
  },
  "language_info": {
   "codemirror_mode": {
    "name": "ipython",
    "version": 3
   },
   "file_extension": ".py",
   "mimetype": "text/x-python",
   "name": "python",
   "nbconvert_exporter": "python",
   "pygments_lexer": "ipython3",
   "version": "3.9.7"
  }
 },
 "nbformat": 4,
 "nbformat_minor": 5
}

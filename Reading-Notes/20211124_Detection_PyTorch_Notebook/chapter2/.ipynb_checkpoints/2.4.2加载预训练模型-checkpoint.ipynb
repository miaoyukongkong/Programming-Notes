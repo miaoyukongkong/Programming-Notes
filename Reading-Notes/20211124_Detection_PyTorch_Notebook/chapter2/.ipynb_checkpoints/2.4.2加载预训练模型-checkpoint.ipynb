{
 "cells": [
  {
   "cell_type": "markdown",
   "id": "8b95e191",
   "metadata": {},
   "source": [
    "对于计算机视觉的任务，包括物体检测，我们通常很难拿到很大的数据集，在这种情况下重新训练一个新的模型是比较复杂的，并且不容易调整，因此，**Fine-tune（微调）是一个常用的选择。所谓Fine-tune是指利用别人在一些数据集上训练好的预训练模型，在自己的数据集上训练自己的模型。**"
   ]
  },
  {
   "cell_type": "markdown",
   "id": "ef96ab17",
   "metadata": {},
   "source": [
    "### 第一种是直接利用torchvision.models中自带的预训练模型，只需要在使用时赋予pretrained参数为True即可。"
   ]
  },
  {
   "cell_type": "code",
   "execution_count": 2,
   "id": "b7b22252",
   "metadata": {},
   "outputs": [
    {
     "name": "stderr",
     "output_type": "stream",
     "text": [
      "Downloading: \"https://download.pytorch.org/models/vgg16-397923af.pth\" to C:\\Users\\木雨/.cache\\torch\\hub\\checkpoints\\vgg16-397923af.pth\n"
     ]
    },
    {
     "data": {
      "application/vnd.jupyter.widget-view+json": {
       "model_id": "7d387ed5a16b49b5b8ea67b5cb009309",
       "version_major": 2,
       "version_minor": 0
      },
      "text/plain": [
       "  0%|          | 0.00/528M [00:00<?, ?B/s]"
      ]
     },
     "metadata": {},
     "output_type": "display_data"
    }
   ],
   "source": [
    "#运行该代码块，会自动从网络下载VGG16训练模型vgg16-397923af.pth，文件大小为528M！\n",
    "from torch import nn\n",
    "from torchvision import models\n",
    "\n",
    "#通过torchvision.model直接调用VGG16的网络结构\n",
    "vgg = models.vgg16(pretrained=True)"
   ]
  },
  {
   "cell_type": "markdown",
   "id": "5714b584",
   "metadata": {},
   "source": [
    "### 第二种是如果想要使用自己的本地预训练模型，或者之前训练过的模型，则可以通过model.load_state_dict()函数操作。"
   ]
  },
  {
   "cell_type": "code",
   "execution_count": null,
   "id": "544f8fdc",
   "metadata": {},
   "outputs": [],
   "source": [
    "import torch\n",
    "from torch import nn\n",
    "from torchvision import models\n",
    "\n",
    "#通过torchvision.model直接调用VGG16的网络结构\n",
    "vgg = models.vgg16()\n",
    "state_dict = torch.load(\"your model path\")\n",
    "\n",
    "#利用load_state_dict，遍历预训练模型的关键字，如果出现在了VGG中，则加载预训练参数\n",
    "vgg.load_state_dict({k:v for k, v in state_dict_items() if k in vgg.state_dict()})"
   ]
  },
  {
   "cell_type": "markdown",
   "id": "287a3cda",
   "metadata": {},
   "source": [
    "**通常来讲，对于不同的检测任务，卷积网络的前两三层的作用是非常类似的，都是提取图像的边缘信息等，因此为了保证模型训练中能够更加稳定，一般会固定预训练网络的前两三个卷积层而不进行参数的学习。**例如VGG模型，可以设置前三个卷积模组不进行参数学习，设置方式如下："
   ]
  },
  {
   "cell_type": "code",
   "execution_count": null,
   "id": "97985f56",
   "metadata": {},
   "outputs": [],
   "source": [
    "for layer in range(10):\n",
    "    for p in vgg[layer].parameters():\n",
    "        p.requires_grad = False"
   ]
  }
 ],
 "metadata": {
  "kernelspec": {
   "display_name": "Python 3 (ipykernel)",
   "language": "python",
   "name": "python3"
  },
  "language_info": {
   "codemirror_mode": {
    "name": "ipython",
    "version": 3
   },
   "file_extension": ".py",
   "mimetype": "text/x-python",
   "name": "python",
   "nbconvert_exporter": "python",
   "pygments_lexer": "ipython3",
   "version": "3.9.7"
  }
 },
 "nbformat": 4,
 "nbformat_minor": 5
}

{
 "cells": [
  {
   "cell_type": "markdown",
   "id": "53ac0974",
   "metadata": {},
   "source": [
    "## Tensor的索引"
   ]
  },
  {
   "cell_type": "markdown",
   "id": "7fdd1ccf",
   "metadata": {},
   "source": [
    "### 索引操作与NumPy非常类似，主要包含下标索引、表达式索引、使用torch.where()与Tensor.clamp()的选择性索引。"
   ]
  },
  {
   "cell_type": "code",
   "execution_count": 1,
   "id": "31650146",
   "metadata": {},
   "outputs": [],
   "source": [
    "import torch"
   ]
  },
  {
   "cell_type": "code",
   "execution_count": 2,
   "id": "afc7eafd",
   "metadata": {},
   "outputs": [
    {
     "data": {
      "text/plain": [
       "tensor([[0., 1.],\n",
       "        [2., 3.]])"
      ]
     },
     "execution_count": 2,
     "metadata": {},
     "output_type": "execute_result"
    }
   ],
   "source": [
    "a = torch.Tensor([[0, 1], [2, 3]])\n",
    "a"
   ]
  },
  {
   "cell_type": "code",
   "execution_count": 3,
   "id": "45faddf5",
   "metadata": {},
   "outputs": [
    {
     "data": {
      "text/plain": [
       "tensor([2., 3.])"
      ]
     },
     "execution_count": 3,
     "metadata": {},
     "output_type": "execute_result"
    }
   ],
   "source": [
    "#根据下标进行索引\n",
    "a[1]"
   ]
  },
  {
   "cell_type": "code",
   "execution_count": 4,
   "id": "e21b3461",
   "metadata": {},
   "outputs": [
    {
     "data": {
      "text/plain": [
       "tensor(1.)"
      ]
     },
     "execution_count": 4,
     "metadata": {},
     "output_type": "execute_result"
    }
   ],
   "source": [
    "#根据下标进行索引\n",
    "a[0, 1]"
   ]
  },
  {
   "cell_type": "code",
   "execution_count": 5,
   "id": "1e14c056",
   "metadata": {},
   "outputs": [
    {
     "data": {
      "text/plain": [
       "tensor([[False,  True],\n",
       "        [ True,  True]])"
      ]
     },
     "execution_count": 5,
     "metadata": {},
     "output_type": "execute_result"
    }
   ],
   "source": [
    "#表达式索引\n",
    "#选择a中大于0的元素，返回和a相同大小的Tensor，符合条件的置True，否则置False\n",
    "a > 0"
   ]
  },
  {
   "cell_type": "code",
   "execution_count": 6,
   "id": "7843edf5",
   "metadata": {},
   "outputs": [
    {
     "data": {
      "text/plain": [
       "tensor([1., 2., 3.])"
      ]
     },
     "execution_count": 6,
     "metadata": {},
     "output_type": "execute_result"
    }
   ],
   "source": [
    "#表达式索引\n",
    "#选择符合条件的元素并返回，等价于torch.masked_select(a, a>0)\n",
    "a[a>0]"
   ]
  },
  {
   "cell_type": "code",
   "execution_count": 7,
   "id": "4d292e9a",
   "metadata": {},
   "outputs": [
    {
     "data": {
      "text/plain": [
       "tensor([1., 2., 3.])"
      ]
     },
     "execution_count": 7,
     "metadata": {},
     "output_type": "execute_result"
    }
   ],
   "source": [
    "#表达式索引\n",
    "#选择符合条件的元素并返回，返回结果为一维Tensor\n",
    "torch.masked_select(a, a>0)"
   ]
  },
  {
   "cell_type": "code",
   "execution_count": 8,
   "id": "6cb6cc48",
   "metadata": {},
   "outputs": [
    {
     "data": {
      "text/plain": [
       "tensor([[0, 1],\n",
       "        [1, 0],\n",
       "        [1, 1]])"
      ]
     },
     "execution_count": 8,
     "metadata": {},
     "output_type": "execute_result"
    }
   ],
   "source": [
    "#表达式索引\n",
    "#选择非0元素的坐标，并返回\n",
    "#不存在zero()和iszero()\n",
    "torch.nonzero(a)"
   ]
  },
  {
   "cell_type": "code",
   "execution_count": 9,
   "id": "17eb2994",
   "metadata": {},
   "outputs": [
    {
     "data": {
      "text/plain": [
       "tensor([[-2, -2],\n",
       "        [ 2,  2]])"
      ]
     },
     "execution_count": 9,
     "metadata": {},
     "output_type": "execute_result"
    }
   ],
   "source": [
    "#torch.where(condition, x, y)，满足condition的位置输出x，否则输出y\n",
    "torch.where(a>1, 2,  -2)"
   ]
  },
  {
   "cell_type": "code",
   "execution_count": 10,
   "id": "78fe9cde",
   "metadata": {},
   "outputs": [
    {
     "data": {
      "text/plain": [
       "tensor([[1.5000, 1.5000],\n",
       "        [2.0000, 2.5000]])"
      ]
     },
     "execution_count": 10,
     "metadata": {},
     "output_type": "execute_result"
    }
   ],
   "source": [
    "#torch.clamp(min, max)，把Tensor的最小值限制为min，最大值限制为max\n",
    "a.clamp(1.5, 2.5)"
   ]
  },
  {
   "cell_type": "code",
   "execution_count": 11,
   "id": "56454555",
   "metadata": {},
   "outputs": [
    {
     "data": {
      "text/plain": [
       "tensor([[0, 1],\n",
       "        [2, 3]])"
      ]
     },
     "execution_count": 11,
     "metadata": {},
     "output_type": "execute_result"
    }
   ],
   "source": [
    "#当Tensor元素为整型，而clamp中的min、max为浮点型时，返回结果仍为整型Tensor\n",
    "b = torch.tensor([[0, 1], [2, 3]])\n",
    "b"
   ]
  },
  {
   "cell_type": "code",
   "execution_count": 12,
   "id": "29f676a0",
   "metadata": {},
   "outputs": [
    {
     "data": {
      "text/plain": [
       "tensor([[1, 1],\n",
       "        [2, 2]])"
      ]
     },
     "execution_count": 12,
     "metadata": {},
     "output_type": "execute_result"
    }
   ],
   "source": [
    "b.clamp(1.5, 2.5)"
   ]
  },
  {
   "cell_type": "markdown",
   "id": "816efe7d",
   "metadata": {},
   "source": [
    "## Tensor的变形\n",
    "\n",
    "***注意：在进行Tensor操作时，有些操作如transpose()、permute()等可能会把Tensor在内存中变得不连续，而有些操作如view()等是需要Tensor内存连续的，这种情况下需要使用contiguous()操作先将内存变为连续的。在PyTorch v0.4版本中增加了reshape()操作，可以看做是Tensor.contiguous().view()。***"
   ]
  },
  {
   "cell_type": "markdown",
   "id": "7f6eb5ca",
   "metadata": {},
   "source": [
    "### 1.调整Tensor的形状，元素总数相同：view()、resize()、reshape()\n",
    "view()、resize()和reshape()函数可以在不改变Tensor数据的前提下任意改变Tensor的形状，**必须保证调整前后的元素总数相同**，并且调整前后共享内存，三者的作用基本相同。"
   ]
  },
  {
   "cell_type": "code",
   "execution_count": 13,
   "id": "9597a6b5",
   "metadata": {},
   "outputs": [
    {
     "data": {
      "text/plain": [
       "tensor([1., 2., 3., 4.])"
      ]
     },
     "execution_count": 13,
     "metadata": {},
     "output_type": "execute_result"
    }
   ],
   "source": [
    "a = torch.arange(1, 5.)\n",
    "a"
   ]
  },
  {
   "cell_type": "code",
   "execution_count": 14,
   "id": "de217802",
   "metadata": {},
   "outputs": [
    {
     "data": {
      "text/plain": [
       "tensor([[1., 2.],\n",
       "        [3., 4.]])"
      ]
     },
     "execution_count": 14,
     "metadata": {},
     "output_type": "execute_result"
    }
   ],
   "source": [
    "#使用view()函数进行维度变换\n",
    "b = a.view(2, 2)\n",
    "b"
   ]
  },
  {
   "cell_type": "markdown",
   "id": "6f0415b7",
   "metadata": {},
   "source": [
    "！！！使用resize()函数会报错**\"non-inplace resize is deprecated\"**，因此进行Tensor维度变换时，推荐使用reshape()"
   ]
  },
  {
   "cell_type": "code",
   "execution_count": 15,
   "id": "05643c86",
   "metadata": {},
   "outputs": [
    {
     "name": "stderr",
     "output_type": "stream",
     "text": [
      "D:\\Anaconda\\lib\\site-packages\\torch\\_tensor.py:493: UserWarning: non-inplace resize is deprecated\n",
      "  warnings.warn(\"non-inplace resize is deprecated\")\n"
     ]
    },
    {
     "data": {
      "text/plain": [
       "tensor([[1.],\n",
       "        [2.],\n",
       "        [3.],\n",
       "        [4.]])"
      ]
     },
     "execution_count": 15,
     "metadata": {},
     "output_type": "execute_result"
    }
   ],
   "source": [
    "#使用resize()函数进行维度变换\n",
    "c = a.resize(4, 1)\n",
    "c"
   ]
  },
  {
   "cell_type": "code",
   "execution_count": 16,
   "id": "12ec1664",
   "metadata": {},
   "outputs": [
    {
     "data": {
      "text/plain": [
       "tensor([[1.],\n",
       "        [2.],\n",
       "        [3.],\n",
       "        [4.]])"
      ]
     },
     "execution_count": 16,
     "metadata": {},
     "output_type": "execute_result"
    }
   ],
   "source": [
    "#使用reshape()函数进行维度变换\n",
    "d = a.reshape(4, 1)\n",
    "d"
   ]
  },
  {
   "cell_type": "code",
   "execution_count": 17,
   "id": "0f1d7443",
   "metadata": {},
   "outputs": [
    {
     "data": {
      "text/plain": [
       "tensor([5., 7., 9., 4.])"
      ]
     },
     "execution_count": 17,
     "metadata": {},
     "output_type": "execute_result"
    }
   ],
   "source": [
    "#改变了b、c、d中的一个元素，a也跟着改变了，说明两者共享内存\n",
    "b[0, 0] = 5\n",
    "c[1, 0] = 7\n",
    "d[2, 0] = 9\n",
    "a"
   ]
  },
  {
   "cell_type": "markdown",
   "id": "760d7796",
   "metadata": {},
   "source": [
    "如果想要直接改变Tensor的尺寸，可以使用**resize_()原地操作函数**。在resize_()函数中，如果超过了原Tensor的大小则重新分配内存，多出部分置0，如果小于原Tensor大小则剩余的部分仍然会隐藏保留。"
   ]
  },
  {
   "cell_type": "code",
   "execution_count": 18,
   "id": "91eef884",
   "metadata": {},
   "outputs": [
    {
     "data": {
      "text/plain": [
       "tensor([[5.0000e+00, 7.0000e+00, 9.0000e+00],\n",
       "        [4.0000e+00, 6.6461e+22, 1.6148e-07]])"
      ]
     },
     "execution_count": 18,
     "metadata": {},
     "output_type": "execute_result"
    }
   ],
   "source": [
    "#使用resize_()函数进行维度变换，操作后原Tensor也会跟着改变\n",
    "e = a.resize_(2,3)\n",
    "e"
   ]
  },
  {
   "cell_type": "code",
   "execution_count": 19,
   "id": "014edd4f",
   "metadata": {},
   "outputs": [
    {
     "data": {
      "text/plain": [
       "tensor([[5.0000e+00, 7.0000e+00, 9.0000e+00],\n",
       "        [4.0000e+00, 6.6461e+22, 1.6148e-07]])"
      ]
     },
     "execution_count": 19,
     "metadata": {},
     "output_type": "execute_result"
    }
   ],
   "source": [
    "#使用resize_()函数进行维度变换，操作后原Tensor也会跟着改变\n",
    "a"
   ]
  },
  {
   "cell_type": "markdown",
   "id": "db7e0192",
   "metadata": {},
   "source": [
    "### 2.各维度之间的变换：transpose()和permute()函数\n",
    "\n",
    "transpose()函数可以将指定的两个维度的元素进行转置，而permute()函数则可以按照给定的维度进行维度变换。"
   ]
  },
  {
   "cell_type": "code",
   "execution_count": 20,
   "id": "b73942d7",
   "metadata": {},
   "outputs": [
    {
     "data": {
      "text/plain": [
       "tensor([[[-0.0327, -0.3447,  0.4214,  0.2413],\n",
       "         [ 1.1238, -0.0321,  0.6531,  0.1410],\n",
       "         [-0.6475,  1.7653, -1.1136, -2.7269]],\n",
       "\n",
       "        [[-0.4449, -1.2753,  0.9509,  1.1101],\n",
       "         [ 0.1763,  1.8675, -0.4399,  0.2039],\n",
       "         [-0.9646, -0.7947,  1.4310,  0.6590]]])"
      ]
     },
     "execution_count": 20,
     "metadata": {},
     "output_type": "execute_result"
    }
   ],
   "source": [
    "a = torch.randn(2, 3, 4)\n",
    "a"
   ]
  },
  {
   "cell_type": "code",
   "execution_count": 21,
   "id": "495c67d5",
   "metadata": {},
   "outputs": [
    {
     "data": {
      "text/plain": [
       "tensor([[[-0.0327, -0.3447,  0.4214,  0.2413],\n",
       "         [-0.4449, -1.2753,  0.9509,  1.1101]],\n",
       "\n",
       "        [[ 1.1238, -0.0321,  0.6531,  0.1410],\n",
       "         [ 0.1763,  1.8675, -0.4399,  0.2039]],\n",
       "\n",
       "        [[-0.6475,  1.7653, -1.1136, -2.7269],\n",
       "         [-0.9646, -0.7947,  1.4310,  0.6590]]])"
      ]
     },
     "execution_count": 21,
     "metadata": {},
     "output_type": "execute_result"
    }
   ],
   "source": [
    "#使用transpose()函数，将第0维和第1维的元素进行转置\n",
    "#转置前为2×3×4，转置后为3×2×4\n",
    "a.transpose(0, 1)"
   ]
  },
  {
   "cell_type": "code",
   "execution_count": 22,
   "id": "6c26b78a",
   "metadata": {},
   "outputs": [
    {
     "data": {
      "text/plain": [
       "tensor([[[-0.0327, -0.4449],\n",
       "         [ 1.1238,  0.1763],\n",
       "         [-0.6475, -0.9646]],\n",
       "\n",
       "        [[-0.3447, -1.2753],\n",
       "         [-0.0321,  1.8675],\n",
       "         [ 1.7653, -0.7947]],\n",
       "\n",
       "        [[ 0.4214,  0.9509],\n",
       "         [ 0.6531, -0.4399],\n",
       "         [-1.1136,  1.4310]],\n",
       "\n",
       "        [[ 0.2413,  1.1101],\n",
       "         [ 0.1410,  0.2039],\n",
       "         [-2.7269,  0.6590]]])"
      ]
     },
     "execution_count": 22,
     "metadata": {},
     "output_type": "execute_result"
    }
   ],
   "source": [
    "#使用permute()函数，按照第2、1、0的维度顺序进行元素排列\n",
    "#转置前为2×3×4，转置后为4×3×2\n",
    "a.permute(2, 1, 0)"
   ]
  },
  {
   "cell_type": "markdown",
   "id": "668a3458",
   "metadata": {},
   "source": [
    "### 3.处理size为1的维度：squeeze()和unsqueeze()函数\n",
    "\n",
    "在实际的应用中，经常需要增加或减少Tensor的维度，尤其是维度为1的情况，这时候可以使用squeeze()与unsqueeze()函数，前者用于去除size为1的维度，而后者则是将指定的维度的size变为1。"
   ]
  },
  {
   "cell_type": "code",
   "execution_count": 23,
   "id": "9db60ce4",
   "metadata": {},
   "outputs": [
    {
     "data": {
      "text/plain": [
       "tensor([1, 2, 3])"
      ]
     },
     "execution_count": 23,
     "metadata": {},
     "output_type": "execute_result"
    }
   ],
   "source": [
    "a = torch.arange(1, 4)\n",
    "a"
   ]
  },
  {
   "cell_type": "code",
   "execution_count": 24,
   "id": "5203d225",
   "metadata": {},
   "outputs": [
    {
     "data": {
      "text/plain": [
       "torch.Size([3])"
      ]
     },
     "execution_count": 24,
     "metadata": {},
     "output_type": "execute_result"
    }
   ],
   "source": [
    "a.shape"
   ]
  },
  {
   "cell_type": "code",
   "execution_count": 25,
   "id": "19417537",
   "metadata": {},
   "outputs": [
    {
     "data": {
      "text/plain": [
       "tensor([[1, 2, 3]])"
      ]
     },
     "execution_count": 25,
     "metadata": {},
     "output_type": "execute_result"
    }
   ],
   "source": [
    "#unsqueeze()函数把指定维度变为1\n",
    "#将第0维为变为1，总维度变为1×3\n",
    "b = a.unsqueeze(0)\n",
    "b"
   ]
  },
  {
   "cell_type": "code",
   "execution_count": 26,
   "id": "ed0e1e26",
   "metadata": {},
   "outputs": [
    {
     "data": {
      "text/plain": [
       "torch.Size([1, 3])"
      ]
     },
     "execution_count": 26,
     "metadata": {},
     "output_type": "execute_result"
    }
   ],
   "source": [
    "b.shape"
   ]
  },
  {
   "cell_type": "code",
   "execution_count": 27,
   "id": "e8ef8701",
   "metadata": {},
   "outputs": [
    {
     "data": {
      "text/plain": [
       "tensor([1, 2, 3])"
      ]
     },
     "execution_count": 27,
     "metadata": {},
     "output_type": "execute_result"
    }
   ],
   "source": [
    "#squeeze()函数去掉维度为1的指定维度，如果不是1则不起任何作用\n",
    "c = b.squeeze(0)\n",
    "c"
   ]
  },
  {
   "cell_type": "code",
   "execution_count": 28,
   "id": "ac58dffc",
   "metadata": {},
   "outputs": [
    {
     "data": {
      "text/plain": [
       "torch.Size([3])"
      ]
     },
     "execution_count": 28,
     "metadata": {},
     "output_type": "execute_result"
    }
   ],
   "source": [
    "c.shape"
   ]
  },
  {
   "cell_type": "code",
   "execution_count": 29,
   "id": "5b2ff54b",
   "metadata": {},
   "outputs": [
    {
     "data": {
      "text/plain": [
       "tensor([[1, 2, 3]])"
      ]
     },
     "execution_count": 29,
     "metadata": {},
     "output_type": "execute_result"
    }
   ],
   "source": [
    "#squeeze()函数去掉维度为1的指定维度，如果不是1则不起任何作用\n",
    "d = b.squeeze(1)\n",
    "d"
   ]
  },
  {
   "cell_type": "code",
   "execution_count": 30,
   "id": "49d5582a",
   "metadata": {},
   "outputs": [
    {
     "data": {
      "text/plain": [
       "torch.Size([1, 3])"
      ]
     },
     "execution_count": 30,
     "metadata": {},
     "output_type": "execute_result"
    }
   ],
   "source": [
    "d.shape"
   ]
  },
  {
   "cell_type": "markdown",
   "id": "6bf33a38",
   "metadata": {},
   "source": [
    "### 4.复制元素来扩展维度：expand()和expand_as()函数\n",
    "\n",
    "有时需要采用复制元素的形式来扩展Tensor的维度，这时expand就派上用场了。expand()函数将size为1的维度复制扩展为指定大小，也可以使用expand_as()函数指定为示例Tensor的维度。"
   ]
  },
  {
   "cell_type": "code",
   "execution_count": 31,
   "id": "8b8f9aa2",
   "metadata": {},
   "outputs": [
    {
     "data": {
      "text/plain": [
       "tensor([[[-0.8054],\n",
       "         [ 0.9030]],\n",
       "\n",
       "        [[-0.8270],\n",
       "         [-2.0015]]])"
      ]
     },
     "execution_count": 31,
     "metadata": {},
     "output_type": "execute_result"
    }
   ],
   "source": [
    "a = torch.randn(2, 2, 1)\n",
    "a"
   ]
  },
  {
   "cell_type": "code",
   "execution_count": 32,
   "id": "b898f3c8",
   "metadata": {},
   "outputs": [
    {
     "data": {
      "text/plain": [
       "tensor([[[-0.8054, -0.8054, -0.8054],\n",
       "         [ 0.9030,  0.9030,  0.9030]],\n",
       "\n",
       "        [[-0.8270, -0.8270, -0.8270],\n",
       "         [-2.0015, -2.0015, -2.0015]]])"
      ]
     },
     "execution_count": 32,
     "metadata": {},
     "output_type": "execute_result"
    }
   ],
   "source": [
    "#使用expand()函数扩展size为1的维度，扩展方式为复制相应维度的元素\n",
    "a.expand(2, 2, 3)"
   ]
  },
  {
   "cell_type": "code",
   "execution_count": 33,
   "id": "d8487733",
   "metadata": {},
   "outputs": [
    {
     "data": {
      "text/plain": [
       "tensor([[[-0.6537, -0.4217, -0.2860, -0.2449],\n",
       "         [ 0.5360, -0.7000,  1.5311,  1.9038]],\n",
       "\n",
       "        [[-2.6845,  0.1181,  0.4077,  1.1690],\n",
       "         [-0.0313, -0.2575,  0.0802, -2.5208]]])"
      ]
     },
     "execution_count": 33,
     "metadata": {},
     "output_type": "execute_result"
    }
   ],
   "source": [
    "b = torch.randn(2, 2, 4)\n",
    "b"
   ]
  },
  {
   "cell_type": "code",
   "execution_count": 34,
   "id": "6dbb953e",
   "metadata": {},
   "outputs": [
    {
     "data": {
      "text/plain": [
       "tensor([[[-0.8054, -0.8054, -0.8054, -0.8054],\n",
       "         [ 0.9030,  0.9030,  0.9030,  0.9030]],\n",
       "\n",
       "        [[-0.8270, -0.8270, -0.8270, -0.8270],\n",
       "         [-2.0015, -2.0015, -2.0015, -2.0015]]])"
      ]
     },
     "execution_count": 34,
     "metadata": {},
     "output_type": "execute_result"
    }
   ],
   "source": [
    "#使用expand_as()函数时，两者所有size不是1的维度，其维度数必须相同，否则无法使用\n",
    "a.expand_as(b)"
   ]
  }
 ],
 "metadata": {
  "kernelspec": {
   "display_name": "Python 3 (ipykernel)",
   "language": "python",
   "name": "python3"
  },
  "language_info": {
   "codemirror_mode": {
    "name": "ipython",
    "version": 3
   },
   "file_extension": ".py",
   "mimetype": "text/x-python",
   "name": "python",
   "nbconvert_exporter": "python",
   "pygments_lexer": "ipython3",
   "version": "3.9.7"
  }
 },
 "nbformat": 4,
 "nbformat_minor": 5
}

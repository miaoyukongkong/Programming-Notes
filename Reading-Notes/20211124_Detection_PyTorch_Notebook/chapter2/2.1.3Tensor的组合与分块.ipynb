{
 "cells": [
  {
   "cell_type": "markdown",
   "id": "1917ac41",
   "metadata": {},
   "source": [
    "## Tensor的组合"
   ]
  },
  {
   "cell_type": "markdown",
   "id": "f91aafa5",
   "metadata": {},
   "source": [
    "### 组合操作是指将不同的Tensor叠加起来，主要有torch.cat()和torch.stack()两个函数。\n",
    "\n",
    "### cat即concatenate的意思，是指沿着已有的数据的某一维度进行拼接，操作后数据的总维数不变，在进行拼接时，除了拼接的维度之外，其他维度必须相同。\n",
    "\n",
    "### 而torch.stack()函数指新增维度，并按照指定的维度进行叠加。"
   ]
  },
  {
   "cell_type": "code",
   "execution_count": 1,
   "id": "9adf9168",
   "metadata": {},
   "outputs": [],
   "source": [
    "import torch"
   ]
  },
  {
   "cell_type": "code",
   "execution_count": 2,
   "id": "df21c938",
   "metadata": {},
   "outputs": [
    {
     "data": {
      "text/plain": [
       "tensor([[1., 2.],\n",
       "        [3., 4.]])"
      ]
     },
     "execution_count": 2,
     "metadata": {},
     "output_type": "execute_result"
    }
   ],
   "source": [
    "#创建两个2×2的Tensor\n",
    "a = torch.Tensor([[1, 2], [3, 4]])\n",
    "a"
   ]
  },
  {
   "cell_type": "code",
   "execution_count": 3,
   "id": "551e8bcc",
   "metadata": {},
   "outputs": [
    {
     "data": {
      "text/plain": [
       "tensor([[5., 6.],\n",
       "        [7., 8.]])"
      ]
     },
     "execution_count": 3,
     "metadata": {},
     "output_type": "execute_result"
    }
   ],
   "source": [
    "b = torch.Tensor([[5, 6], [7, 8]])\n",
    "b"
   ]
  },
  {
   "cell_type": "code",
   "execution_count": 4,
   "id": "a051fb8c",
   "metadata": {},
   "outputs": [
    {
     "data": {
      "text/plain": [
       "tensor([[1., 2.],\n",
       "        [3., 4.],\n",
       "        [5., 6.],\n",
       "        [7., 8.]])"
      ]
     },
     "execution_count": 4,
     "metadata": {},
     "output_type": "execute_result"
    }
   ],
   "source": [
    "#以第0维进行拼接，则变成4×2的矩阵\n",
    "torch.cat([a, b], 0)"
   ]
  },
  {
   "cell_type": "code",
   "execution_count": 5,
   "id": "28b7881d",
   "metadata": {},
   "outputs": [
    {
     "data": {
      "text/plain": [
       "tensor([[1., 2., 5., 6.],\n",
       "        [3., 4., 7., 8.]])"
      ]
     },
     "execution_count": 5,
     "metadata": {},
     "output_type": "execute_result"
    }
   ],
   "source": [
    "#以第1维进行拼接，则变成2×4的矩阵\n",
    "torch.cat([a, b], 1)"
   ]
  },
  {
   "cell_type": "code",
   "execution_count": 6,
   "id": "c08b16d1",
   "metadata": {},
   "outputs": [
    {
     "data": {
      "text/plain": [
       "tensor([[[1., 2.],\n",
       "         [3., 4.]],\n",
       "\n",
       "        [[5., 6.],\n",
       "         [7., 8.]]])"
      ]
     },
     "execution_count": 6,
     "metadata": {},
     "output_type": "execute_result"
    }
   ],
   "source": [
    "#以第0维进行stack，叠加的基本单位为序列本身，即a与b，因此输出[a, b]，输出维度为2×2×2\n",
    "torch.stack([a, b], 0)"
   ]
  },
  {
   "cell_type": "code",
   "execution_count": 7,
   "id": "65c343a3",
   "metadata": {},
   "outputs": [
    {
     "data": {
      "text/plain": [
       "tensor([[[1., 2.],\n",
       "         [5., 6.]],\n",
       "\n",
       "        [[3., 4.],\n",
       "         [7., 8.]]])"
      ]
     },
     "execution_count": 7,
     "metadata": {},
     "output_type": "execute_result"
    }
   ],
   "source": [
    "#以第1维进行stack，叠加的基本单位为每一行，输出维度为2×2×2\n",
    "torch.stack([a, b], 1)"
   ]
  },
  {
   "cell_type": "code",
   "execution_count": 8,
   "id": "5dcc1d1a",
   "metadata": {},
   "outputs": [
    {
     "data": {
      "text/plain": [
       "tensor([[[1., 5.],\n",
       "         [2., 6.]],\n",
       "\n",
       "        [[3., 7.],\n",
       "         [4., 8.]]])"
      ]
     },
     "execution_count": 8,
     "metadata": {},
     "output_type": "execute_result"
    }
   ],
   "source": [
    "#以第2维进行stack，叠加的基本单位为每一行的每一个元素，输出维度为2×2×2\n",
    "torch.stack([a, b], 2)"
   ]
  },
  {
   "cell_type": "markdown",
   "id": "a47a3287",
   "metadata": {},
   "source": [
    "## Tensor的分块"
   ]
  },
  {
   "cell_type": "markdown",
   "id": "514a8472",
   "metadata": {},
   "source": [
    "### 分块则是与组合相反的操作，指将Tensor分割成不同的子Tensor，主要有torch.chunk()与torch.split()两个函数，前者需要指定分块的数量，而后者则需要指定每一块的大小，以整型或者list来表示。"
   ]
  },
  {
   "cell_type": "code",
   "execution_count": 9,
   "id": "d00b5892",
   "metadata": {},
   "outputs": [
    {
     "data": {
      "text/plain": [
       "tensor([[1, 2, 3],\n",
       "        [4, 5, 6]])"
      ]
     },
     "execution_count": 9,
     "metadata": {},
     "output_type": "execute_result"
    }
   ],
   "source": [
    "c = torch.tensor([[1, 2, 3], [4, 5, 6]])\n",
    "c"
   ]
  },
  {
   "cell_type": "code",
   "execution_count": 10,
   "id": "779d249d",
   "metadata": {},
   "outputs": [
    {
     "data": {
      "text/plain": [
       "(tensor([[1, 2, 3]]), tensor([[4, 5, 6]]))"
      ]
     },
     "execution_count": 10,
     "metadata": {},
     "output_type": "execute_result"
    }
   ],
   "source": [
    "#使用chunk，沿着第0维进行分块，一共分为两块，分割成两个1×3的Tensor\n",
    "torch.chunk(c, 2, 0)"
   ]
  },
  {
   "cell_type": "code",
   "execution_count": 11,
   "id": "3a983850",
   "metadata": {},
   "outputs": [
    {
     "data": {
      "text/plain": [
       "(tensor([[1],\n",
       "         [4]]),\n",
       " tensor([[2],\n",
       "         [5]]),\n",
       " tensor([[3],\n",
       "         [6]]))"
      ]
     },
     "execution_count": 11,
     "metadata": {},
     "output_type": "execute_result"
    }
   ],
   "source": [
    "#使用chunk，沿着第1维进行分块，当不能整除时，最后一个的维数会小于前面的\n",
    "#三个Tensor均为2×1\n",
    "torch.chunk(c, 3, 1)"
   ]
  },
  {
   "cell_type": "code",
   "execution_count": 12,
   "id": "86f21226",
   "metadata": {},
   "outputs": [
    {
     "data": {
      "text/plain": [
       "(tensor([[1, 2],\n",
       "         [4, 5]]),\n",
       " tensor([[3],\n",
       "         [6]]))"
      ]
     },
     "execution_count": 12,
     "metadata": {},
     "output_type": "execute_result"
    }
   ],
   "source": [
    "#使用chunk，沿着第1维进行分块，当不能整除时，最后一个的维数会小于前面的\n",
    "#因此第一个Tensor为2×2，第二个为2×1\n",
    "torch.chunk(c, 2, 1)"
   ]
  },
  {
   "cell_type": "code",
   "execution_count": 13,
   "id": "08dc28a4",
   "metadata": {},
   "outputs": [
    {
     "data": {
      "text/plain": [
       "(tensor([[1, 2, 3],\n",
       "         [4, 5, 6]]),)"
      ]
     },
     "execution_count": 13,
     "metadata": {},
     "output_type": "execute_result"
    }
   ],
   "source": [
    "#使用split，沿着第0维分块，每一块维度为2\n",
    "#由于第0维维度总共为2，因此相当于没有分割\n",
    "torch.split(c, 2, 0)"
   ]
  },
  {
   "cell_type": "code",
   "execution_count": 14,
   "id": "b15cf1ed",
   "metadata": {},
   "outputs": [
    {
     "data": {
      "text/plain": [
       "(tensor([[1, 2],\n",
       "         [4, 5]]),\n",
       " tensor([[3],\n",
       "         [6]]))"
      ]
     },
     "execution_count": 14,
     "metadata": {},
     "output_type": "execute_result"
    }
   ],
   "source": [
    "#使用split，沿着第0维分块，每一块维度为2\n",
    "#第一个Tensor为2×2，第二个为2×1\n",
    "torch.split(c, 2, 1)"
   ]
  },
  {
   "cell_type": "code",
   "execution_count": 15,
   "id": "b2ef1361",
   "metadata": {},
   "outputs": [
    {
     "data": {
      "text/plain": [
       "(tensor([[1],\n",
       "         [4]]),\n",
       " tensor([[2, 3],\n",
       "         [5, 6]]))"
      ]
     },
     "execution_count": 15,
     "metadata": {},
     "output_type": "execute_result"
    }
   ],
   "source": [
    "#split也可以根据输入的list进行自动分块，list中的元素代表每一块占的维度\n",
    "torch.split(c, [1, 2], 1)"
   ]
  }
 ],
 "metadata": {
  "kernelspec": {
   "display_name": "Python 3 (ipykernel)",
   "language": "python",
   "name": "python3"
  },
  "language_info": {
   "codemirror_mode": {
    "name": "ipython",
    "version": 3
   },
   "file_extension": ".py",
   "mimetype": "text/x-python",
   "name": "python",
   "nbconvert_exporter": "python",
   "pygments_lexer": "ipython3",
   "version": "3.9.7"
  }
 },
 "nbformat": 4,
 "nbformat_minor": 5
}

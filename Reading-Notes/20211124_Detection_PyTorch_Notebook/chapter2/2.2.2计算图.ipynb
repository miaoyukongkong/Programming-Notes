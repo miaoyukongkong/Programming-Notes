{
 "cells": [
  {
   "cell_type": "markdown",
   "id": "b122e7d1",
   "metadata": {},
   "source": [
    "### 计算图是PyTorch对于神经网络的具体实现形式，包括每一个数据Tensor及Tensor之间的函数function。"
   ]
  },
  {
   "cell_type": "markdown",
   "id": "12911e19",
   "metadata": {},
   "source": [
    "以z= ωx+ b为例，通常在神经网络中，x为输入，ω与b为网络需要学习的参数，z为输出，在这一层，计算图构建方法如图所示。"
   ]
  },
  {
   "attachments": {
    "2.2.2_computational_graphs.jpg": {
     "image/jpeg": "[encoded data removed]"
    }
   },
   "cell_type": "markdown",
   "id": "7b5facee",
   "metadata": {},
   "source": [
    "![a simple computational graph](attachment:2.2.2_computational_graphs.jpg)"
   ]
  },
  {
   "cell_type": "markdown",
   "id": "ac7f5ade",
   "metadata": {},
   "source": [
    "在上图中，x、ω和b都是用户自己创建的，因此都为叶节点，ωx首先经过乘法算子产生中间节点y，然后与b经过加法算法产生最终输出z，并作为根节点。"
   ]
  },
  {
   "cell_type": "markdown",
   "id": "2e3c92b1",
   "metadata": {},
   "source": [
    "## Autograd的基本原理\n",
    "\n",
    "随着每一步Tensor的计算操作，逐渐生成计算图，并将操作的function记录在Tensor的grad_fn中。在前向计算完后，只需对根节点进行backward函数操作，即可从当前根节点自动进行反向传播与梯度计算，从而得到每一个叶子节点的梯度，梯度计算遵循链式求导法则。"
   ]
  },
  {
   "cell_type": "code",
   "execution_count": 1,
   "id": "ff8d3560",
   "metadata": {},
   "outputs": [],
   "source": [
    "import torch"
   ]
  },
  {
   "cell_type": "code",
   "execution_count": 2,
   "id": "83f156a1",
   "metadata": {},
   "outputs": [
    {
     "data": {
      "text/plain": [
       "(tensor([-0.2225]),\n",
       " tensor([1.], requires_grad=True),\n",
       " tensor([1.], requires_grad=True))"
      ]
     },
     "execution_count": 2,
     "metadata": {},
     "output_type": "execute_result"
    }
   ],
   "source": [
    "#生成3个Tensor变量，并做为叶节点\n",
    "x = torch.randn(1)\n",
    "w = torch.ones(1, requires_grad=True)\n",
    "b = torch.ones(1, requires_grad=True)\n",
    "x, w, b"
   ]
  },
  {
   "cell_type": "code",
   "execution_count": 3,
   "id": "cf4d9351",
   "metadata": {},
   "outputs": [
    {
     "data": {
      "text/plain": [
       "(True, True, True)"
      ]
     },
     "execution_count": 3,
     "metadata": {},
     "output_type": "execute_result"
    }
   ],
   "source": [
    "#自己生成的Tensor，均为叶节点\n",
    "x.is_leaf, w.is_leaf, b.is_leaf"
   ]
  },
  {
   "cell_type": "code",
   "execution_count": 4,
   "id": "c1f5f05f",
   "metadata": {},
   "outputs": [
    {
     "data": {
      "text/plain": [
       "(False, False)"
      ]
     },
     "execution_count": 4,
     "metadata": {},
     "output_type": "execute_result"
    }
   ],
   "source": [
    "#进行前向计算，由计算生成的变量都不是叶节点\n",
    "y = w*x\n",
    "z = y+b\n",
    "y.is_leaf, z.is_leaf"
   ]
  },
  {
   "cell_type": "code",
   "execution_count": 5,
   "id": "1c929a0c",
   "metadata": {},
   "outputs": [
    {
     "data": {
      "text/plain": [
       "(True, True)"
      ]
     },
     "execution_count": 5,
     "metadata": {},
     "output_type": "execute_result"
    }
   ],
   "source": [
    "#由于依赖的变量有需要求导的，因此y与z都需要求导\n",
    "y.requires_grad, z.requires_grad"
   ]
  },
  {
   "cell_type": "code",
   "execution_count": 6,
   "id": "b7cb7953",
   "metadata": {},
   "outputs": [
    {
     "data": {
      "text/plain": [
       "<MulBackward0 at 0x15948443460>"
      ]
     },
     "execution_count": 6,
     "metadata": {},
     "output_type": "execute_result"
    }
   ],
   "source": [
    "#grad_fn记录了生成该变量经过了什么操作\n",
    "y.grad_fn"
   ]
  },
  {
   "cell_type": "code",
   "execution_count": 7,
   "id": "faea5f58",
   "metadata": {},
   "outputs": [
    {
     "data": {
      "text/plain": [
       "<AddBackward0 at 0x159484438b0>"
      ]
     },
     "execution_count": 7,
     "metadata": {},
     "output_type": "execute_result"
    }
   ],
   "source": [
    "#grad_fn记录了生成该变量经过了什么操作\n",
    "z.grad_fn"
   ]
  },
  {
   "cell_type": "code",
   "execution_count": 8,
   "id": "a359e5c0",
   "metadata": {},
   "outputs": [
    {
     "data": {
      "text/plain": [
       "(tensor([-0.2225]), tensor([1.]))"
      ]
     },
     "execution_count": 8,
     "metadata": {},
     "output_type": "execute_result"
    }
   ],
   "source": [
    "#对根节点调用backward()函数，进行梯度反转\n",
    "z.backward(retain_graph=True)\n",
    "w.grad, b.grad"
   ]
  },
  {
   "cell_type": "markdown",
   "id": "87825449",
   "metadata": {},
   "source": [
    "## Autograd注意事项\n",
    "\n",
    "①**动态图特性**：PyTorch建立的计算图是动态的，这也是PyTorch的一大特点。动态图是指程序运行时，每次前向传播时从头开始构建计算图，这样不同的前向传播就可以有不同的计算图，也可以在前向时插入各种Python的控制语句，不需要事先把所有的图都构建出来，并且可以很方便地查看中间过程变量。\n",
    "\n",
    "②**backward()函数还有一个需要传入的参数grad_variabels，其代表了根节点的导数，也可以看做根节点各部分的权重系数**。因为PyTorch不允许Tensor对Tensor求导，求导时都是标量对于Tensor进行求导，因此，如果根节点是向量，则应配以对应大小的权重，并求和得到标量，再反传。如果根节点的值是标量，则该参数可以省略，默认为1。\n",
    "\n",
    "③当有多个输出需要同时进行梯度反传时，需要**将retain_graph设置为True，从而保证在计算多个输出的梯度时互不影响**。"
   ]
  }
 ],
 "metadata": {
  "kernelspec": {
   "display_name": "Python 3 (ipykernel)",
   "language": "python",
   "name": "python3"
  },
  "language_info": {
   "codemirror_mode": {
    "name": "ipython",
    "version": 3
   },
   "file_extension": ".py",
   "mimetype": "text/x-python",
   "name": "python",
   "nbconvert_exporter": "python",
   "pygments_lexer": "ipython3",
   "version": "3.9.7"
  }
 },
 "nbformat": 4,
 "nbformat_minor": 5
}
